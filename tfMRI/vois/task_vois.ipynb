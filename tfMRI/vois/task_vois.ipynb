{
 "cells": [
  {
   "cell_type": "code",
   "execution_count": 34,
   "id": "9042c5a4-bb96-418e-9ef4-1bf96b4fd043",
   "metadata": {},
   "outputs": [],
   "source": [
    "import nilearn.plotting as nip\n",
    "import nilearn.image as nii\n",
    "import matplotlib.pyplot as plt"
   ]
  },
  {
   "cell_type": "code",
   "execution_count": 35,
   "id": "009c6acc-3098-46df-944a-96eadffce419",
   "metadata": {},
   "outputs": [],
   "source": [
    "voiscolors = [\"purple\", \"orange\", \"red\", \"green\", \"aqua\"]\n",
    "vois = [\"Action\", \"LTM\", \"Perception\", \"Procedural\", \"WM\"]\n",
    "taskcolors = [\"blue\", \"orange\", \"red\", \"purple\", \"green\", \"magenta\"]\n",
    "tasks = [\"Emotion\", \"Gambling\", \"Language\", \"Relational\", \"Social\", \"WM\"]"
   ]
  },
  {
   "cell_type": "markdown",
   "id": "5dad8be0-d8b0-4115-b21a-b56cbb1e0203",
   "metadata": {},
   "source": [
    "## Independent Visualization"
   ]
  },
  {
   "cell_type": "code",
   "execution_count": null,
   "id": "a66cb9b2-ae67-4b0c-8fb1-ac0e18b42e23",
   "metadata": {},
   "outputs": [],
   "source": [
    "fig, axs = plt.subplots(len(tasks), len(vois), figsize=(20, 30))\n",
    "it = 0\n",
    "iv = 0\n",
    "for iv, voi in enumerate(vois): \n",
    "    it = 0\n",
    "    for task, tcolor in zip(tasks, taskcolors):\n",
    "        #print(\"%s, %s\" % (task, voi))\n",
    "        nip.plot_glass_brain(\"%s/VOI_%s_mask_sum.nii\" % (task, voi), display_mode='z',\n",
    "                             title = \"%s, %s\" % (task, voi), axes=axs[it,iv])\n",
    "        it = it + 1\n",
    "plt.show()\n",
    "plt.savefig(\"overlaps_bt_task.png\")"
   ]
  },
  {
   "cell_type": "markdown",
   "id": "3ba21742-82f9-4be3-b627-ab619791c741",
   "metadata": {},
   "source": [
    "## Overlap"
   ]
  },
  {
   "cell_type": "code",
   "execution_count": null,
   "id": "7e592c5c-4ece-4650-9c73-ab90323e7801",
   "metadata": {
    "scrolled": true,
    "tags": []
   },
   "outputs": [],
   "source": [
    "for voi, vcolor in zip(vois, voiscolors): \n",
    "    d=nip.plot_glass_brain(None, title=voi)\n",
    "    for task, tcolor in zip(tasks, taskcolors):\n",
    "        d.add_contours(\"%s/VOI_%s_mask_sum.nii\" % (task, voi), levels=[0, 10, 25, 50, 100, 150], colors=tcolor)\n",
    "    nip.show()\n",
    "plt.savefig(\"overlaps_by_voi.png\")"
   ]
  }
 ],
 "metadata": {
  "kernelspec": {
   "display_name": "Python 3",
   "language": "python",
   "name": "python3"
  },
  "language_info": {
   "codemirror_mode": {
    "name": "ipython",
    "version": 3
   },
   "file_extension": ".py",
   "mimetype": "text/x-python",
   "name": "python",
   "nbconvert_exporter": "python",
   "pygments_lexer": "ipython3",
   "version": "3.7.11"
  }
 },
 "nbformat": 4,
 "nbformat_minor": 5
}
