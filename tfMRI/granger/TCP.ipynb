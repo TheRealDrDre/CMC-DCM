{
 "cells": [
  {
   "cell_type": "code",
   "execution_count": 16,
   "id": "8fec1dfe-ed52-4929-8d80-a845129df654",
   "metadata": {},
   "outputs": [],
   "source": [
    "import networkx as nx\n",
    "import numpy as np\n",
    "from numpy.random import default_rng\n",
    "rng = default_rng(seed=111)\n",
    "#from timeawarepc.tpc import cfc_tpc, cfc_pc, cfc_gc\n",
    "from timeawarepc.simulate_data import *\n",
    "from timeawarepc.find_cfc import *"
   ]
  },
  {
   "cell_type": "markdown",
   "id": "50a29d0c-26a4-4ec4-a45a-276299cf45bb",
   "metadata": {},
   "source": [
    "# Load Pandas and Matplotlib"
   ]
  },
  {
   "cell_type": "code",
   "execution_count": 2,
   "id": "dda7e9bb-0cbe-4fe9-8539-0c6dba03d0f0",
   "metadata": {},
   "outputs": [],
   "source": [
    "import pandas as pd\n",
    "import matplotlib.pyplot as plt"
   ]
  },
  {
   "cell_type": "markdown",
   "id": "426c21b9-7788-4cc5-8ad0-37cb10b69d93",
   "metadata": {},
   "source": [
    "Now load the Power 2011 parcellation"
   ]
  },
  {
   "cell_type": "markdown",
   "id": "fdb19db5-2cd4-4595-b7b7-b0e79e16be80",
   "metadata": {},
   "source": [
    "For each ROI in Power, load the corresponding timeseries for Subject 001"
   ]
  },
  {
   "cell_type": "code",
   "execution_count": 33,
   "id": "01e9c6a1-2c12-40d3-8621-d72a5b9ebac9",
   "metadata": {},
   "outputs": [
    {
     "data": {
      "text/html": [
       "<div>\n",
       "<style scoped>\n",
       "    .dataframe tbody tr th:only-of-type {\n",
       "        vertical-align: middle;\n",
       "    }\n",
       "\n",
       "    .dataframe tbody tr th {\n",
       "        vertical-align: top;\n",
       "    }\n",
       "\n",
       "    .dataframe thead th {\n",
       "        text-align: right;\n",
       "    }\n",
       "</style>\n",
       "<table border=\"1\" class=\"dataframe\">\n",
       "  <thead>\n",
       "    <tr style=\"text-align: right;\">\n",
       "      <th></th>\n",
       "      <th>0</th>\n",
       "      <th>1</th>\n",
       "      <th>2</th>\n",
       "      <th>3</th>\n",
       "      <th>4</th>\n",
       "    </tr>\n",
       "  </thead>\n",
       "  <tbody>\n",
       "    <tr>\n",
       "      <th>0</th>\n",
       "      <td>0.307060</td>\n",
       "      <td>-0.346043</td>\n",
       "      <td>-0.119730</td>\n",
       "      <td>-2.333359</td>\n",
       "      <td>-1.363225</td>\n",
       "    </tr>\n",
       "    <tr>\n",
       "      <th>1</th>\n",
       "      <td>0.503357</td>\n",
       "      <td>-1.805245</td>\n",
       "      <td>-0.654723</td>\n",
       "      <td>-1.386754</td>\n",
       "      <td>0.426439</td>\n",
       "    </tr>\n",
       "    <tr>\n",
       "      <th>2</th>\n",
       "      <td>-0.180867</td>\n",
       "      <td>-1.338505</td>\n",
       "      <td>-1.711225</td>\n",
       "      <td>-2.275782</td>\n",
       "      <td>-1.377011</td>\n",
       "    </tr>\n",
       "    <tr>\n",
       "      <th>3</th>\n",
       "      <td>0.372857</td>\n",
       "      <td>-1.047683</td>\n",
       "      <td>-0.738168</td>\n",
       "      <td>-0.023756</td>\n",
       "      <td>-0.553949</td>\n",
       "    </tr>\n",
       "    <tr>\n",
       "      <th>4</th>\n",
       "      <td>-0.039364</td>\n",
       "      <td>-1.057414</td>\n",
       "      <td>-1.429902</td>\n",
       "      <td>-2.655497</td>\n",
       "      <td>-0.655464</td>\n",
       "    </tr>\n",
       "    <tr>\n",
       "      <th>...</th>\n",
       "      <td>...</td>\n",
       "      <td>...</td>\n",
       "      <td>...</td>\n",
       "      <td>...</td>\n",
       "      <td>...</td>\n",
       "    </tr>\n",
       "    <tr>\n",
       "      <th>347</th>\n",
       "      <td>0.090085</td>\n",
       "      <td>0.074743</td>\n",
       "      <td>0.642801</td>\n",
       "      <td>-0.824118</td>\n",
       "      <td>0.479228</td>\n",
       "    </tr>\n",
       "    <tr>\n",
       "      <th>348</th>\n",
       "      <td>-0.357380</td>\n",
       "      <td>0.424402</td>\n",
       "      <td>0.865780</td>\n",
       "      <td>0.946911</td>\n",
       "      <td>0.501898</td>\n",
       "    </tr>\n",
       "    <tr>\n",
       "      <th>349</th>\n",
       "      <td>0.257702</td>\n",
       "      <td>-0.996359</td>\n",
       "      <td>0.431945</td>\n",
       "      <td>-0.408062</td>\n",
       "      <td>-0.210273</td>\n",
       "    </tr>\n",
       "    <tr>\n",
       "      <th>350</th>\n",
       "      <td>-0.122864</td>\n",
       "      <td>0.412875</td>\n",
       "      <td>0.790126</td>\n",
       "      <td>-1.531998</td>\n",
       "      <td>0.056176</td>\n",
       "    </tr>\n",
       "    <tr>\n",
       "      <th>351</th>\n",
       "      <td>0.147257</td>\n",
       "      <td>-0.342123</td>\n",
       "      <td>0.737667</td>\n",
       "      <td>1.052272</td>\n",
       "      <td>-0.045169</td>\n",
       "    </tr>\n",
       "  </tbody>\n",
       "</table>\n",
       "<p>352 rows × 5 columns</p>\n",
       "</div>"
      ],
      "text/plain": [
       "            0         1         2         3         4\n",
       "0    0.307060 -0.346043 -0.119730 -2.333359 -1.363225\n",
       "1    0.503357 -1.805245 -0.654723 -1.386754  0.426439\n",
       "2   -0.180867 -1.338505 -1.711225 -2.275782 -1.377011\n",
       "3    0.372857 -1.047683 -0.738168 -0.023756 -0.553949\n",
       "4   -0.039364 -1.057414 -1.429902 -2.655497 -0.655464\n",
       "..        ...       ...       ...       ...       ...\n",
       "347  0.090085  0.074743  0.642801 -0.824118  0.479228\n",
       "348 -0.357380  0.424402  0.865780  0.946911  0.501898\n",
       "349  0.257702 -0.996359  0.431945 -0.408062 -0.210273\n",
       "350 -0.122864  0.412875  0.790126 -1.531998  0.056176\n",
       "351  0.147257 -0.342123  0.737667  1.052272 -0.045169\n",
       "\n",
       "[352 rows x 5 columns]"
      ]
     },
     "execution_count": 33,
     "metadata": {},
     "output_type": "execute_result"
    }
   ],
   "source": [
    "data = pd.read_csv(\"Emotion/sub-130922/cmc.txt\", delim_whitespace=True, header=None)\n",
    "data"
   ]
  },
  {
   "cell_type": "markdown",
   "id": "29b2ee32-8036-45fd-bbf6-f525b790f013",
   "metadata": {},
   "source": [
    "Turn data in t X p array"
   ]
  },
  {
   "cell_type": "code",
   "execution_count": 34,
   "id": "e8391790-aaff-4906-957f-76c787103b79",
   "metadata": {},
   "outputs": [
    {
     "name": "stdout",
     "output_type": "stream",
     "text": [
      "(352, 5)\n"
     ]
    },
    {
     "data": {
      "text/plain": [
       "array([[ 0.30706045, -0.3460431 , -0.11973   , -2.33335942, -1.3632253 ],\n",
       "       [ 0.50335719, -1.8052447 , -0.65472273, -1.38675434,  0.42643901],\n",
       "       [-0.18086682, -1.33850537, -1.71122497, -2.27578201, -1.37701131],\n",
       "       ...,\n",
       "       [ 0.25770187, -0.99635878,  0.43194532, -0.40806184, -0.21027304],\n",
       "       [-0.1228636 ,  0.41287514,  0.79012638, -1.53199837,  0.05617624],\n",
       "       [ 0.14725709, -0.34212282,  0.73766735,  1.05227243, -0.04516933]])"
      ]
     },
     "execution_count": 34,
     "metadata": {},
     "output_type": "execute_result"
    }
   ],
   "source": [
    "mdata = np.array(data)\n",
    "print(mdata.shape)\n",
    "mdata"
   ]
  },
  {
   "cell_type": "markdown",
   "id": "434e24e3-d0cd-45e9-a95f-4e5d8bfe7e4e",
   "metadata": {},
   "source": [
    " Plot the data for inspection"
   ]
  },
  {
   "cell_type": "markdown",
   "id": "237f1c80-fe38-4287-a34a-002c8c6c2292",
   "metadata": {},
   "source": [
    "# Run TCP"
   ]
  },
  {
   "cell_type": "code",
   "execution_count": 38,
   "id": "45d19e23-a007-4413-a0d7-3e2bcaeff8e6",
   "metadata": {},
   "outputs": [],
   "source": [
    "model = 'lingauss'\n",
    "method_name = 'TPC'\n",
    "alpha = 0.1\n",
    "maxdelay=1\n",
    "isgauss = (model == 'lingauss')\n",
    "adjmat, causaleffmat = find_cfc(mdata,method_name,alpha=alpha,maxdelay=maxdelay,isgauss=isgauss)\n",
    "#adjmat, causaleffmat = cfc_tpc(mdata,method_name,alpha=alpha,maxdelay=maxdelay,isgauss=isgauss)"
   ]
  },
  {
   "cell_type": "code",
   "execution_count": 39,
   "id": "0a38f52c-2d54-4361-8a97-080c96271acb",
   "metadata": {},
   "outputs": [
    {
     "data": {
      "text/plain": [
       "array([[0.18365727,        nan,        nan,        nan,        nan],\n",
       "       [       nan,        nan,        nan,        nan,        nan],\n",
       "       [       nan,        nan, 0.65495651,        nan, 0.13551273],\n",
       "       [       nan, 0.22691979,        nan, 0.01584536,        nan],\n",
       "       [       nan,        nan, 0.38208358, 0.4669875 ,        nan]])"
      ]
     },
     "execution_count": 39,
     "metadata": {},
     "output_type": "execute_result"
    }
   ],
   "source": [
    "causaleffmat"
   ]
  }
 ],
 "metadata": {
  "kernelspec": {
   "display_name": "Python 3 (ipykernel)",
   "language": "python",
   "name": "python3"
  },
  "language_info": {
   "codemirror_mode": {
    "name": "ipython",
    "version": 3
   },
   "file_extension": ".py",
   "mimetype": "text/x-python",
   "name": "python",
   "nbconvert_exporter": "python",
   "pygments_lexer": "ipython3",
   "version": "3.9.7"
  }
 },
 "nbformat": 4,
 "nbformat_minor": 5
}
